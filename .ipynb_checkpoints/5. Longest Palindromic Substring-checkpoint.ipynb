{
 "cells": [
  {
   "cell_type": "code",
   "execution_count": 84,
   "metadata": {},
   "outputs": [],
   "source": [
    "class Solution:\n",
    "    \"\"\"\n",
    "    TODO: \n",
    "    一种特殊解法  https://articles.leetcode.com/longest-palindromic-substring-part-ii/\n",
    "    \"\"\"\n",
    "    def longestPalindrome(self, s):\n",
    "        \"\"\"\n",
    "        :type s: str\n",
    "        :rtype: str\n",
    "        \"\"\"\n",
    "        s_len = len(s)\n",
    "        is_palindromic = [[False for _ in s] for _ in s]  # 二维数组\n",
    "        for i in range(s_len):\n",
    "            is_palindromic[i][i] = True\n",
    "            if i + 1 < s_len:\n",
    "                is_palindromic[i][i+1] = True\n",
    "        ans = s[0][0]\n",
    "        for palindromic_len in range(3, s_len + 1):\n",
    "            # is_palindromic[start][end] 表示从start到end是回文\n",
    "            for start in range(s_len - palindromic_len + 1):\n",
    "                end = start + palindromic_len - 1\n",
    "                print(start,end,s[start:end+1])\n",
    "                if is_palindromic[start+1][end-1] and s[start] == s[end]:\n",
    "                    is_palindromic[start][end] = True\n",
    "                maybe_ans = s[start:end+1]\n",
    "                if len(maybe_ans) > len(ans):\n",
    "                    ans = maybe_ans\n",
    "        return ans\n",
    "\n",
    "        "
   ]
  },
  {
   "cell_type": "code",
   "execution_count": 85,
   "metadata": {},
   "outputs": [
    {
     "data": {
      "text/plain": [
       "'aba'"
      ]
     },
     "execution_count": 85,
     "metadata": {},
     "output_type": "execute_result"
    }
   ],
   "source": [
    "Solution().longestPalindrome(\"aba\")"
   ]
  },
  {
   "cell_type": "code",
   "execution_count": null,
   "metadata": {},
   "outputs": [],
   "source": []
  },
  {
   "cell_type": "code",
   "execution_count": null,
   "metadata": {},
   "outputs": [],
   "source": []
  }
 ],
 "metadata": {
  "kernelspec": {
   "display_name": "Python 3",
   "language": "python",
   "name": "python3"
  },
  "language_info": {
   "codemirror_mode": {
    "name": "ipython",
    "version": 3
   },
   "file_extension": ".py",
   "mimetype": "text/x-python",
   "name": "python",
   "nbconvert_exporter": "python",
   "pygments_lexer": "ipython3",
   "version": "3.6.1"
  }
 },
 "nbformat": 4,
 "nbformat_minor": 2
}
