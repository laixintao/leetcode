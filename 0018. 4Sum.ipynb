{
 "cells": [
  {
   "cell_type": "code",
   "execution_count": 45,
   "metadata": {},
   "outputs": [],
   "source": [
    "class Solution:\n",
    "    def fourSum(self, nums, target: int):\n",
    "        def NSum(nums, target, N):\n",
    "            \"\"\"nums must be sorted.\n",
    "            \"\"\"\n",
    "            if not nums or nums[0] * N > target or nums[-1] * N < target or len(nums) < N: return None\n",
    "            if N == 2:  # do 2sum\n",
    "                left, right = 0, len(nums) -1\n",
    "                while left < right:\n",
    "                    s = nums[left] + nums[right]\n",
    "                    if s > target:\n",
    "                        right -= 1\n",
    "                        while nums[right] == nums[right+1] and left < right:\n",
    "                            right -= 1\n",
    "                    elif s < target:\n",
    "                        left += 1\n",
    "                        while nums[left] == nums[left-1] and left < right:\n",
    "                            left += 1\n",
    "                    else:\n",
    "                        yield [nums[left], nums[right]]\n",
    "                        left += 1\n",
    "                        while nums[left] == nums[left-1] and left < right:\n",
    "                            left += 1\n",
    "            else:\n",
    "                for index, num in enumerate(nums):\n",
    "                    if index > 0 and nums[index-1] == num:\n",
    "                        continue\n",
    "                    reduce_sum = list(NSum(nums[index+1:], target-num, N-1))\n",
    "                    if not reduce_sum:\n",
    "                        continue\n",
    "                    for r in reduce_sum:\n",
    "                        yield r + [num]\n",
    "        return list(NSum(sorted(nums), target, 4))"
   ]
  },
  {
   "cell_type": "code",
   "execution_count": 46,
   "metadata": {},
   "outputs": [
    {
     "data": {
      "text/plain": [
       "[[1, 2, -1, -2], [0, 2, 0, -2], [0, 1, 0, -1]]"
      ]
     },
     "execution_count": 46,
     "metadata": {},
     "output_type": "execute_result"
    }
   ],
   "source": [
    "Solution().fourSum([1, 0, -1, 0, -2, 2], 0)"
   ]
  },
  {
   "cell_type": "code",
   "execution_count": null,
   "metadata": {},
   "outputs": [],
   "source": []
  }
 ],
 "metadata": {
  "kernelspec": {
   "display_name": "Python 3",
   "language": "python",
   "name": "python3"
  },
  "language_info": {
   "codemirror_mode": {
    "name": "ipython",
    "version": 3
   },
   "file_extension": ".py",
   "mimetype": "text/x-python",
   "name": "python",
   "nbconvert_exporter": "python",
   "pygments_lexer": "ipython3",
   "version": "3.7.0"
  }
 },
 "nbformat": 4,
 "nbformat_minor": 2
}
