{
 "cells": [
  {
   "cell_type": "code",
   "execution_count": 10,
   "metadata": {},
   "outputs": [],
   "source": [
    "\"\"\"\n",
    "遍历排序\n",
    "超时\n",
    "\"\"\"\n",
    "\n",
    "class Solution:\n",
    "    \n",
    "    def mergeKLists(self, lists):\n",
    "        if not lists:\n",
    "            return None\n",
    "        answer = None\n",
    "        tail = None\n",
    "        \n",
    "        while lists and any([head for head in lists]):\n",
    "            min_index = 0\n",
    "            min_value = None\n",
    "            for index,node in enumerate(lists):\n",
    "                if node and (min_value is None or node.val < min_value):\n",
    "                    min_index = index\n",
    "                    min_value = node.val\n",
    "                    \n",
    "            min_list = lists[min_index]\n",
    "            \n",
    "            if tail:\n",
    "                tail.next = min_list\n",
    "                tail = tail.next\n",
    "            else:\n",
    "                answer = min_list\n",
    "                tail= min_list\n",
    "            lists[min_index] = min_list.next\n",
    "        return answer"
   ]
  },
  {
   "cell_type": "code",
   "execution_count": 16,
   "metadata": {},
   "outputs": [],
   "source": [
    "\"\"\"\n",
    "这个做法是将所有的头结点放到heap中\n",
    "然后每次取heap最小的出来，如果最小的这个头结点不是end，那么就用next替换\n",
    "否则就pop出来\n",
    "堆取完了，就结束\n",
    "\"\"\"\n",
    "class Solution:\n",
    "    def mergeKLists(self, lists):\n",
    "        from heapq import heapify, heappop, heapreplace\n",
    "        heads = [(head_node.val, index, head_node) for index, head_node in enumerate(lists) if head_node]\n",
    "        heapify(heads)\n",
    "        heap = heads\n",
    "        answer = tail = ListNode(0)\n",
    "        while heap:\n",
    "            value, index, node = heap[0]\n",
    "            if not node.next:\n",
    "                heappop(heap)\n",
    "            else:\n",
    "                heapreplace(heap, (node.next.val, index, node.next))\n",
    "            tail.next = node\n",
    "            tail = node\n",
    "        return answer.next\n",
    "\n"
   ]
  },
  {
   "cell_type": "code",
   "execution_count": 19,
   "metadata": {},
   "outputs": [],
   "source": [
    "# Definition for singly-linked list.\n",
    "class ListNode:\n",
    "    def __init__(self, x):\n",
    "        self.val = x\n",
    "        self.next = None\n",
    "\n",
    "def create(nums):\n",
    "    head = ListNode(nums[0])\n",
    "    tail = head\n",
    "    for num in nums[1:]:\n",
    "        tail.next = ListNode(num)\n",
    "        tail = tail.next\n",
    "    return head\n",
    "\n",
    "def print_list(head):\n",
    "    while head:\n",
    "        print(head.val, \"->\",end=\"\")\n",
    "        head = head.next\n",
    "        \n",
    "        "
   ]
  },
  {
   "cell_type": "code",
   "execution_count": 20,
   "metadata": {},
   "outputs": [
    {
     "name": "stdout",
     "output_type": "stream",
     "text": [
      "1 ->1 ->2 ->4 ->4 ->3 ->5 ->6 ->"
     ]
    }
   ],
   "source": [
    "a = create([1,4,5])\n",
    "b = create([1,4,3])\n",
    "c = create([2,6])\n",
    "ans = Solution().mergeKLists([a,b,c])\n",
    "print_list(ans)"
   ]
  },
  {
   "cell_type": "code",
   "execution_count": null,
   "metadata": {},
   "outputs": [],
   "source": []
  },
  {
   "cell_type": "code",
   "execution_count": null,
   "metadata": {},
   "outputs": [],
   "source": []
  }
 ],
 "metadata": {
  "kernelspec": {
   "display_name": "Python 3",
   "language": "python",
   "name": "python3"
  },
  "language_info": {
   "codemirror_mode": {
    "name": "ipython",
    "version": 3
   },
   "file_extension": ".py",
   "mimetype": "text/x-python",
   "name": "python",
   "nbconvert_exporter": "python",
   "pygments_lexer": "ipython3",
   "version": "3.7.5"
  }
 },
 "nbformat": 4,
 "nbformat_minor": 4
}
