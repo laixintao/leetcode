{
 "cells": [
  {
   "cell_type": "code",
   "execution_count": 38,
   "metadata": {},
   "outputs": [],
   "source": [
    "PRE, NEXT, KEY, VALUE = 0, 1, 2, 3\n",
    "\n",
    "class LRUCache:\n",
    "\n",
    "    def __init__(self, capacity: int):\n",
    "        self.maxsize = capacity\n",
    "        self.count = 0\n",
    "        self.root = []\n",
    "        # root     pre   next  key   value\n",
    "        self.root[:] = [self.root, self.root, None, None] \n",
    "        self.cache = {}\n",
    "        \n",
    "\n",
    "    def get(self, key: int) -> int:\n",
    "        if key in self.cache:\n",
    "            pre, next, key, value = self.cache[key]\n",
    "            # remove from current position\n",
    "            pre[NEXT] = next\n",
    "            next[PRE] = pre\n",
    "            \n",
    "            # add to first\n",
    "            root_next = self.root[NEXT]\n",
    "            \n",
    "            self.cache[key][NEXT] = root_next\n",
    "            root_next[PRE] = self.cache[key]\n",
    "            self.cache[key][PRE] = self.root\n",
    "            self.root[NEXT] = self.cache[key]\n",
    "            return value\n",
    "        return -1\n",
    "            \n",
    "    def put(self, key: int, value: int) -> None:\n",
    "        if key in self.cache:\n",
    "            self.cache[key][VALUE] = value\n",
    "            self.get(key)\n",
    "            return\n",
    "        self.cache[key] = [self.root, self.root[NEXT], key, value]\n",
    "        self.cache[key][NEXT][PRE] = self.cache[key]\n",
    "        self.root[NEXT] = self.cache[key]\n",
    "        if self.count == self.maxsize:\n",
    "            last = self.root[PRE]\n",
    "            new_last = self.root[PRE][PRE]\n",
    "            new_last[NEXT] = self.root\n",
    "            self.root[PRE] = new_last\n",
    "            del self.cache[last[KEY]]\n",
    "            return\n",
    "        self.count += 1\n",
    "\n",
    "# Your LRUCache object will be instantiated and called as such:\n",
    "# obj = LRUCache(capacity)\n",
    "# param_1 = obj.get(key)\n",
    "# obj.put(key,value)"
   ]
  },
  {
   "cell_type": "code",
   "execution_count": 39,
   "metadata": {},
   "outputs": [
    {
     "name": "stdout",
     "output_type": "stream",
     "text": [
      "1= 1\n",
      "-1   -1\n",
      "-1  -1\n",
      "3  3\n",
      "4  4\n"
     ]
    }
   ],
   "source": [
    "cache = LRUCache(2);\n",
    "\n",
    "cache.put(1, 1);\n",
    "cache.put(2, 2);\n",
    "print(\"1=\",cache.get(1))\n",
    "\n",
    "cache.put(3, 3) \n",
    "print(\"-1  \",cache.get(2))\n",
    "\n",
    "cache.put(4, 4)\n",
    "\n",
    "print(\"-1 \", cache.get(1)      )\n",
    "print(\"3 \", cache.get(3))\n",
    "print(\"4 \", cache.get(4)       )"
   ]
  },
  {
   "cell_type": "code",
   "execution_count": 40,
   "metadata": {},
   "outputs": [
    {
     "name": "stdout",
     "output_type": "stream",
     "text": [
      "2= 2\n"
     ]
    }
   ],
   "source": [
    "cache = LRUCache(2);\n",
    "\n",
    "cache.put(2, 1)\n",
    "cache.put(2, 2)\n",
    "print(\"2=\",cache.get(2))"
   ]
  },
  {
   "cell_type": "code",
   "execution_count": 41,
   "metadata": {},
   "outputs": [
    {
     "name": "stdout",
     "output_type": "stream",
     "text": [
      "get 1:  -1\n",
      "get 2:  3\n",
      "get 4:  1\n"
     ]
    }
   ],
   "source": [
    "cache = LRUCache(2);\n",
    "\n",
    "cache.put(2, 1)\n",
    "cache.put(1, 1)\n",
    "cache.put(2, 3)\n",
    "cache.put(4, 1)\n",
    "\n",
    "print(\"get 1: \", cache.get(1))\n",
    "print(\"get 2: \", cache.get(2))\n",
    "print(\"get 4: \", cache.get(4))"
   ]
  },
  {
   "cell_type": "code",
   "execution_count": null,
   "metadata": {},
   "outputs": [],
   "source": []
  }
 ],
 "metadata": {
  "kernelspec": {
   "display_name": "Python 3",
   "language": "python",
   "name": "python3"
  },
  "language_info": {
   "codemirror_mode": {
    "name": "ipython",
    "version": 3
   },
   "file_extension": ".py",
   "mimetype": "text/x-python",
   "name": "python",
   "nbconvert_exporter": "python",
   "pygments_lexer": "ipython3",
   "version": "3.7.0"
  }
 },
 "nbformat": 4,
 "nbformat_minor": 2
}
