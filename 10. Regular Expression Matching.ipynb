{
 "cells": [
  {
   "cell_type": "code",
   "execution_count": 64,
   "metadata": {},
   "outputs": [],
   "source": [
    "class Solution:\n",
    "    def isMatch(self, s, p):\n",
    "        \"\"\"\n",
    "        错误解法\n",
    "        :type s: str\n",
    "        :type p: str\n",
    "        :rtype: bool\n",
    "        \"\"\"\n",
    "        class Token:\n",
    "            def __init__(self, token=None, time=0):\n",
    "                self.token = token\n",
    "                self.time = time\n",
    "            def __str__(self):\n",
    "                return \"{}({})\".format(self.token, self.time)\n",
    "            def match(self, ch):\n",
    "                return self.token == ch or self.token ==\".\"\n",
    "        \n",
    "        compiled_re = []\n",
    "        token = Token()\n",
    "        for ch in p:\n",
    "            if ch == \"*\":\n",
    "                token.time = \"star\"\n",
    "                compiled_re[-1].time = \"star\"\n",
    "            elif ch == \".\":\n",
    "                compiled_re.append(Token(\".\", 1))\n",
    "            else:\n",
    "                compiled_re.append(Token(ch, 1))\n",
    "              \n",
    "        last_token = None\n",
    "        token_index = 0\n",
    "        char_index = 0\n",
    "        \n",
    "        while token_index < len(compiled_re) and char_index < len(s):\n",
    "            \n",
    "        for ch in s:\n",
    "            if token_index < len(compiled_re): # token match 继续向前\n",
    "                token = compiled_re[token_index]\n",
    "                print(ch, token)\n",
    "                if token.match(ch):  \n",
    "                    if token.time == 'star':\n",
    "                        last_token = token\n",
    "                    token_index += 1\n",
    "                    continue\n",
    "            elif last_token and last_token.match(ch):  # 上一个token match 继续\n",
    "                continue\n",
    "            else:  # 当前token和上一个token都不match\n",
    "                return False\n",
    "        return token_index == len(compiled_re)"
   ]
  },
  {
   "cell_type": "code",
   "execution_count": 65,
   "metadata": {},
   "outputs": [],
   "source": [
    "s = Solution()"
   ]
  },
  {
   "cell_type": "code",
   "execution_count": 66,
   "metadata": {},
   "outputs": [
    {
     "name": "stdout",
     "output_type": "stream",
     "text": [
      "a a(1)\n"
     ]
    },
    {
     "data": {
      "text/plain": [
       "False"
      ]
     },
     "execution_count": 66,
     "metadata": {},
     "output_type": "execute_result"
    }
   ],
   "source": [
    "s.isMatch(\"aa\",\"a\")"
   ]
  },
  {
   "cell_type": "code",
   "execution_count": 67,
   "metadata": {},
   "outputs": [
    {
     "name": "stdout",
     "output_type": "stream",
     "text": [
      "a a(1)\n",
      "a a(1)\n"
     ]
    },
    {
     "data": {
      "text/plain": [
       "True"
      ]
     },
     "execution_count": 67,
     "metadata": {},
     "output_type": "execute_result"
    }
   ],
   "source": [
    "s.isMatch(\"aa\",\"aa\")"
   ]
  },
  {
   "cell_type": "code",
   "execution_count": 68,
   "metadata": {},
   "outputs": [
    {
     "name": "stdout",
     "output_type": "stream",
     "text": [
      "a a(star)\n"
     ]
    },
    {
     "data": {
      "text/plain": [
       "True"
      ]
     },
     "execution_count": 68,
     "metadata": {},
     "output_type": "execute_result"
    }
   ],
   "source": [
    "s.isMatch(\"aa\", \"a*\")"
   ]
  },
  {
   "cell_type": "code",
   "execution_count": 69,
   "metadata": {},
   "outputs": [
    {
     "name": "stdout",
     "output_type": "stream",
     "text": [
      "a .(star)\n"
     ]
    },
    {
     "data": {
      "text/plain": [
       "True"
      ]
     },
     "execution_count": 69,
     "metadata": {},
     "output_type": "execute_result"
    }
   ],
   "source": [
    "s.isMatch(\"aa\", \".*\")"
   ]
  },
  {
   "cell_type": "code",
   "execution_count": 70,
   "metadata": {},
   "outputs": [
    {
     "name": "stdout",
     "output_type": "stream",
     "text": [
      "a c(star)\n",
      "a c(star)\n",
      "b c(star)\n"
     ]
    },
    {
     "data": {
      "text/plain": [
       "False"
      ]
     },
     "execution_count": 70,
     "metadata": {},
     "output_type": "execute_result"
    }
   ],
   "source": [
    "s.isMatch(\"aab\", \"c*a*b\")"
   ]
  },
  {
   "cell_type": "code",
   "execution_count": 71,
   "metadata": {},
   "outputs": [
    {
     "name": "stdout",
     "output_type": "stream",
     "text": [
      "a a(1)\n",
      "a a(1)\n",
      "a a(1)\n"
     ]
    },
    {
     "data": {
      "text/plain": [
       "False"
      ]
     },
     "execution_count": 71,
     "metadata": {},
     "output_type": "execute_result"
    }
   ],
   "source": [
    "s.isMatch(\"aaa\", \"aaaa\")"
   ]
  },
  {
   "cell_type": "code",
   "execution_count": 73,
   "metadata": {},
   "outputs": [],
   "source": [
    "class Solution(object):\n",
    "    \"\"\"动态规划解决\"\"\"\n",
    "    def isMatch(self, s, p):\n",
    "        # The DP table and the string s and p use the same indexes i and j, but\n",
    "        # table[i][j] means the match status between p[:i] and s[:j], i.e.\n",
    "        # table[0][0] means the match status of two empty strings, and\n",
    "        # table[1][1] means the match status of p[0] and s[0]. Therefore, when\n",
    "        # refering to the i-th and the j-th characters of p and s for updating\n",
    "        # table[i][j], we use p[i - 1] and s[j - 1].\n",
    "\n",
    "        # Initialize the table with False. The first row is satisfied.\n",
    "        table = [[False] * (len(s) + 1) for _ in range(len(p) + 1)]\n",
    "\n",
    "        # Update the corner case of matching two empty strings.\n",
    "        table[0][0] = True\n",
    "\n",
    "        # Update the corner case of when s is an empty string but p is not.\n",
    "        # Since each '*' can eliminate the charter before it, the table is\n",
    "        # vertically updated by the one before previous. [test_symbol_0]\n",
    "        for i in range(2, len(p) + 1):\n",
    "            table[i][0] = table[i - 2][0] and p[i - 1] == '*'\n",
    "\n",
    "        for i in range(1, len(p) + 1):\n",
    "            for j in range(1, len(s) + 1):\n",
    "                if p[i - 1] != \"*\":\n",
    "                    # Update the table by referring the diagonal element.\n",
    "                    table[i][j] = table[i - 1][j - 1] and \\\n",
    "                                  (p[i - 1] == s[j - 1] or p[i - 1] == '.')\n",
    "                else:\n",
    "                    # Eliminations (referring to the vertical element)\n",
    "                    # Either refer to the one before previous or the previous.\n",
    "                    # I.e. * eliminate the previous or count the previous.\n",
    "                    # [test_symbol_1]\n",
    "                    table[i][j] = table[i - 2][j] or table[i - 1][j]\n",
    "\n",
    "                    # Propagations (referring to the horizontal element)\n",
    "                    # If p's previous one is equal to the current s, with\n",
    "                    # helps of *, the status can be propagated from the left.\n",
    "                    # [test_symbol_2]\n",
    "                    if p[i - 2] == s[j - 1] or p[i - 2] == '.':\n",
    "                        table[i][j] |= table[i][j - 1]\n",
    "\n",
    "        return table[-1][-1]"
   ]
  },
  {
   "cell_type": "code",
   "execution_count": null,
   "metadata": {},
   "outputs": [],
   "source": []
  }
 ],
 "metadata": {
  "kernelspec": {
   "display_name": "Python 3",
   "language": "python",
   "name": "python3"
  },
  "language_info": {
   "codemirror_mode": {
    "name": "ipython",
    "version": 3
   },
   "file_extension": ".py",
   "mimetype": "text/x-python",
   "name": "python",
   "nbconvert_exporter": "python",
   "pygments_lexer": "ipython3",
   "version": "3.6.3"
  }
 },
 "nbformat": 4,
 "nbformat_minor": 2
}
