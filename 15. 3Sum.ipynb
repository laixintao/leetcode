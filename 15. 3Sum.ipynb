{
 "cells": [
  {
   "cell_type": "code",
   "execution_count": 23,
   "metadata": {},
   "outputs": [],
   "source": [
    "class Solution:\n",
    "\n",
    "    def threeSum(self, nums):\n",
    "        \"\"\"\n",
    "        :type nums: List[int]\n",
    "        :rtype: List[List[int]]\n",
    "        \"\"\"\n",
    "        if len(nums) < 3:\n",
    "            return []\n",
    "        ans = []\n",
    "        nums = sorted(nums)\n",
    "        for index in range(len(nums) - 2):\n",
    "            if index > 0 and nums[index] == nums[index-1]:\n",
    "                continue\n",
    "            left = index + 1\n",
    "            right = len(nums) - 1\n",
    "            target = 0 - nums[index]\n",
    "            while left < right:\n",
    "                if nums[left] + nums[right] < target:\n",
    "                    left += 1\n",
    "                elif nums[left] + nums[right] > target:\n",
    "                    right -= 1\n",
    "                else:\n",
    "                    ans.append([nums[index], nums[left], nums[right]])\n",
    "                    # 跳过重复的元素\n",
    "                    while left < right and nums[left] == nums[left+1]:\n",
    "                        left += 1\n",
    "                    while left < right and nums[right] == nums[right-1]:\n",
    "                        right -= 1\n",
    "                    left += 1\n",
    "                    right -= 1\n",
    "        return ans\n"
   ]
  },
  {
   "cell_type": "code",
   "execution_count": 24,
   "metadata": {},
   "outputs": [
    {
     "name": "stdout",
     "output_type": "stream",
     "text": [
      "[[-1, -1, 2], [-1, 0, 1]]\n",
      "[[0, 0, 0]]\n"
     ]
    }
   ],
   "source": [
    "s = Solution()\n",
    "print(s.threeSum([-1, 0, 1, 2, -1, -4]))\n",
    "print(s.threeSum([0,0,0,0]))"
   ]
  },
  {
   "cell_type": "code",
   "execution_count": null,
   "metadata": {},
   "outputs": [],
   "source": []
  },
  {
   "cell_type": "code",
   "execution_count": null,
   "metadata": {},
   "outputs": [],
   "source": []
  }
 ],
 "metadata": {
  "kernelspec": {
   "display_name": "Python 3",
   "language": "python",
   "name": "python3"
  },
  "language_info": {
   "codemirror_mode": {
    "name": "ipython",
    "version": 3
   },
   "file_extension": ".py",
   "mimetype": "text/x-python",
   "name": "python",
   "nbconvert_exporter": "python",
   "pygments_lexer": "ipython3",
   "version": "3.7.0"
  }
 },
 "nbformat": 4,
 "nbformat_minor": 2
}
