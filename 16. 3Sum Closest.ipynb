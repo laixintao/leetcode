{
 "cells": [
  {
   "cell_type": "code",
   "execution_count": 32,
   "metadata": {},
   "outputs": [],
   "source": [
    "class Solution:\n",
    "    def threeSumClosest(self, nums, target):\n",
    "        \"\"\"\n",
    "        :type nums: List[int]\n",
    "        :type target: int\n",
    "        :rtype: int\n",
    "        \"\"\"\n",
    "        ans = sum(nums[:3])\n",
    "        nums = sorted(nums)\n",
    "        for index in range(len(nums) - 2):\n",
    "            if index > 0 and nums[index] == nums[index-1]: continue\n",
    "            left = index + 1\n",
    "            right = len(nums) - 1\n",
    "\n",
    "            while left < right:\n",
    "                total = nums[index] + nums[left] + nums[right]\n",
    "                if abs(total - target) < abs(ans - target):\n",
    "                    ans = total\n",
    "                #print(index, left, right, ans, total, target)\n",
    "                if total < target:\n",
    "                    left += 1\n",
    "                elif total > target:\n",
    "                    right -= 1\n",
    "                \n",
    "                else:\n",
    "                    return target\n",
    "        return ans"
   ]
  },
  {
   "cell_type": "code",
   "execution_count": 33,
   "metadata": {},
   "outputs": [
    {
     "name": "stdout",
     "output_type": "stream",
     "text": [
      "-3\n",
      "0 1 3 2 -3 1\n",
      "-1\n",
      "0 2 3 2 -1 1\n",
      "2\n",
      "1 2 3 2 2 1\n"
     ]
    },
    {
     "data": {
      "text/plain": [
       "2"
      ]
     },
     "execution_count": 33,
     "metadata": {},
     "output_type": "execute_result"
    }
   ],
   "source": [
    "Solution().threeSumClosest([-1, 2, 1, -4], 1)"
   ]
  },
  {
   "cell_type": "code",
   "execution_count": null,
   "metadata": {},
   "outputs": [],
   "source": []
  }
 ],
 "metadata": {
  "kernelspec": {
   "display_name": "Python 3",
   "language": "python",
   "name": "python3"
  },
  "language_info": {
   "codemirror_mode": {
    "name": "ipython",
    "version": 3
   },
   "file_extension": ".py",
   "mimetype": "text/x-python",
   "name": "python",
   "nbconvert_exporter": "python",
   "pygments_lexer": "ipython3",
   "version": "3.7.0"
  }
 },
 "nbformat": 4,
 "nbformat_minor": 2
}
