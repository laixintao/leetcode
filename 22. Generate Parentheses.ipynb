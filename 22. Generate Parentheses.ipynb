{
 "cells": [
  {
   "cell_type": "code",
   "execution_count": 39,
   "metadata": {},
   "outputs": [],
   "source": [
    "\"\"\"\n",
    "BFS\n",
    "\"\"\"\n",
    "class Solution:\n",
    "    def find(self, ans, res, lcount, rcount):\n",
    "        if not lcount and not rcount:\n",
    "            ans.append(res)\n",
    "            \n",
    "        if lcount:\n",
    "            self.find(ans, res+\"(\", lcount-1, rcount)\n",
    "        if rcount>lcount:\n",
    "            self.find(ans, res+\")\", lcount ,rcount-1)\n",
    "        \n",
    "    def generateParenthesis(self, n: int):\n",
    "        ans = []\n",
    "        self.find(ans, \"\", n, n)\n",
    "        return ans"
   ]
  },
  {
   "cell_type": "code",
   "execution_count": 40,
   "metadata": {},
   "outputs": [
    {
     "name": "stdout",
     "output_type": "stream",
     "text": [
      "0 0\n",
      "0 0\n",
      "0 0\n",
      "0 0\n",
      "0 0\n",
      "['((()))', '(()())', '(())()', '()(())', '()()()']\n"
     ]
    }
   ],
   "source": [
    "x = Solution().generateParenthesis(3)\n",
    "print(x)"
   ]
  },
  {
   "cell_type": "code",
   "execution_count": null,
   "metadata": {},
   "outputs": [],
   "source": []
  }
 ],
 "metadata": {
  "kernelspec": {
   "display_name": "Python 3",
   "language": "python",
   "name": "python3"
  },
  "language_info": {
   "codemirror_mode": {
    "name": "ipython",
    "version": 3
   },
   "file_extension": ".py",
   "mimetype": "text/x-python",
   "name": "python",
   "nbconvert_exporter": "python",
   "pygments_lexer": "ipython3",
   "version": "3.7.5"
  }
 },
 "nbformat": 4,
 "nbformat_minor": 4
}
