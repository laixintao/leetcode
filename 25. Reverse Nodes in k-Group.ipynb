{
 "cells": [
  {
   "cell_type": "code",
   "execution_count": 23,
   "metadata": {},
   "outputs": [],
   "source": [
    "\"\"\"\n",
    "按K个为一组转换链表。\n",
    "先翻转这个K组，然后拿到head和tail，再按照“按两个一组翻转”的方法，翻转即可。\n",
    "\"\"\"\n",
    "# Definition for singly-linked list.\n",
    "# class ListNode:\n",
    "#     def __init__(self, x):\n",
    "#         self.val = x\n",
    "#         self.next = None\n",
    "\n",
    "class Solution:\n",
    "    def reverse(self, head, k):\n",
    "        group_tail = head\n",
    "        \n",
    "        head_last = None\n",
    "        count = k\n",
    "        while count > 0:\n",
    "            head_next = head.next\n",
    "            \n",
    "            head.next = head_last\n",
    "            \n",
    "            head_last = head\n",
    "            head = head_next\n",
    "            count -=1\n",
    "        return head_last, group_tail\n",
    "            \n",
    "            \n",
    "        \n",
    "    def reverseKGroup(self, head: ListNode, k) -> ListNode:\n",
    "        group_last = ans = ListNode(0)\n",
    "        group_last.next = head\n",
    "        \n",
    "        while head:\n",
    "            # find next K nodes\n",
    "            group_next = head\n",
    "            count = k\n",
    "            while count > 0 and group_next:\n",
    "                group_next = group_next.next\n",
    "                count -= 1\n",
    "                \n",
    "            if count == 0:\n",
    "                # enough nodes to reverse\n",
    "                group_head, group_tail = self.reverse(head, k)\n",
    "\n",
    "            else:\n",
    "                break\n",
    "            \n",
    "            group_last.next = group_head\n",
    "            group_tail.next = group_next\n",
    "            \n",
    "            print(\"group_tail:\", group_tail.val)\n",
    "            print(\"group_head:\", group_head.val)\n",
    "            print(\"reverted: \")\n",
    "            print_list(ans)\n",
    "            print()\n",
    "            group_last = group_tail\n",
    "            head = group_next\n",
    "            \n",
    "        return ans.next"
   ]
  },
  {
   "cell_type": "code",
   "execution_count": 24,
   "metadata": {},
   "outputs": [],
   "source": [
    "# Definition for singly-linked list.\n",
    "class ListNode:\n",
    "    def __init__(self, x):\n",
    "        self.val = x\n",
    "        self.next = None\n",
    "\n",
    "def create(nums):\n",
    "    head = ListNode(nums[0])\n",
    "    tail = head\n",
    "    for num in nums[1:]:\n",
    "        tail.next = ListNode(num)\n",
    "        tail = tail.next\n",
    "    return head\n",
    "\n",
    "def print_list(head):\n",
    "    while head:\n",
    "        print(head.val, \"->\",end=\"\")\n",
    "        head = head.next"
   ]
  },
  {
   "cell_type": "code",
   "execution_count": 25,
   "metadata": {},
   "outputs": [
    {
     "name": "stdout",
     "output_type": "stream",
     "text": [
      "1 ->2 ->3 ->4 ->5 ->6 ->7 ->8 ->\n",
      "group_tail: 1\n",
      "group_head: 3\n",
      "reverted: \n",
      "0 ->3 ->2 ->1 ->4 ->5 ->6 ->7 ->8 ->\n",
      "group_tail: 4\n",
      "group_head: 6\n",
      "reverted: \n",
      "0 ->3 ->2 ->1 ->6 ->5 ->4 ->7 ->8 ->\n",
      "\n",
      "ans:\n",
      "3 ->2 ->1 ->6 ->5 ->4 ->7 ->8 ->"
     ]
    }
   ],
   "source": [
    "a = create([1,2,3,4,5,6,7,8])\n",
    "print_list(a)\n",
    "print()\n",
    "ans = Solution().reverseKGroup(a, 3)\n",
    "print(\"\\nans:\")\n",
    "print_list(ans)"
   ]
  },
  {
   "cell_type": "code",
   "execution_count": null,
   "metadata": {},
   "outputs": [],
   "source": []
  },
  {
   "cell_type": "code",
   "execution_count": null,
   "metadata": {},
   "outputs": [],
   "source": []
  }
 ],
 "metadata": {
  "kernelspec": {
   "display_name": "Python 3",
   "language": "python",
   "name": "python3"
  }
 },
 "nbformat": 4,
 "nbformat_minor": 4
}
