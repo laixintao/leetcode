{
 "cells": [
  {
   "cell_type": "code",
   "execution_count": 63,
   "metadata": {},
   "outputs": [],
   "source": [
    "class Solution:\n",
    "    def convert(self, s, numRows):\n",
    "        \"\"\"\n",
    "        :type s: str\n",
    "        :type numRows: int\n",
    "        :rtype: str\n",
    "        \"\"\"\n",
    "        if numRows == 1:\n",
    "            return s\n",
    "        ans = []  # 每一列都放在这里\n",
    "        \n",
    "        max_row = numRows - 1\n",
    "        row = [None for _ in range(numRows)]\n",
    "        n = 0\n",
    "        next = +1\n",
    "        for letter in s:\n",
    "            # print(row, n, letter)\n",
    "            row[n] = letter  # 将当前位置标记成一个字母\n",
    "            if next > 0 and n == max_row:  # 走到最下\n",
    "                ans.append(row)\n",
    "                row = [None for _ in range(numRows)]\n",
    "                next = -next\n",
    "            elif next < 0 and n != 0: ## 反向朝上\n",
    "                ans.append(row)\n",
    "                row = [None for _ in range(numRows)]\n",
    "            elif next < 0 and n == 0:\n",
    "                next = -next\n",
    "            n += next\n",
    "        ans.append(row)\n",
    "        \n",
    "        final = []\n",
    "        for _list in zip(*ans):\n",
    "            final.extend([i for i in _list if i])\n",
    "        return \"\".join(final)"
   ]
  },
  {
   "cell_type": "code",
   "execution_count": 64,
   "metadata": {},
   "outputs": [
    {
     "name": "stdout",
     "output_type": "stream",
     "text": [
      "[None, None, None] 0 P\n",
      "['P', None, None] 1 A\n",
      "['P', 'A', None] 2 Y\n",
      "[None, None, None] 1 P\n",
      "[None, None, None] 0 A\n",
      "['A', None, None] 1 L\n",
      "['A', 'L', None] 2 I\n",
      "[None, None, None] 1 S\n",
      "[None, None, None] 0 H\n",
      "['H', None, None] 1 I\n",
      "['H', 'I', None] 2 R\n",
      "[None, None, None] 1 I\n",
      "[None, None, None] 0 N\n",
      "['N', None, None] 1 G\n"
     ]
    },
    {
     "data": {
      "text/plain": [
       "'PAHNAPLSIIGYIR'"
      ]
     },
     "execution_count": 64,
     "metadata": {},
     "output_type": "execute_result"
    }
   ],
   "source": [
    "Solution().convert(\"PAYPALISHIRING\", 3)"
   ]
  },
  {
   "cell_type": "code",
   "execution_count": 65,
   "metadata": {},
   "outputs": [
    {
     "data": {
      "text/plain": [
       "'ABC'"
      ]
     },
     "execution_count": 65,
     "metadata": {},
     "output_type": "execute_result"
    }
   ],
   "source": [
    "Solution().convert(\"ABC\", 1)"
   ]
  },
  {
   "cell_type": "code",
   "execution_count": null,
   "metadata": {},
   "outputs": [],
   "source": []
  }
 ],
 "metadata": {
  "kernelspec": {
   "display_name": "Python 3",
   "language": "python",
   "name": "python3"
  },
  "language_info": {
   "codemirror_mode": {
    "name": "ipython",
    "version": 3
   },
   "file_extension": ".py",
   "mimetype": "text/x-python",
   "name": "python",
   "nbconvert_exporter": "python",
   "pygments_lexer": "ipython3",
   "version": "3.6.3"
  }
 },
 "nbformat": 4,
 "nbformat_minor": 2
}
