{
 "cells": [
  {
   "cell_type": "code",
   "execution_count": 15,
   "metadata": {},
   "outputs": [],
   "source": [
    "class Solution:\n",
    "    def selfDividingNumbers(self, left, right):\n",
    "        \"\"\"\n",
    "        :type left: int\n",
    "        :type right: int\n",
    "        :rtype: List[int]\n",
    "        \"\"\"\n",
    "        result = []\n",
    "        for num in range(left, right + 1):\n",
    "            if self.is_self_deviding(num):\n",
    "                result.append(num)\n",
    "        # print(result)\n",
    "        return result\n",
    "    \n",
    "    def is_self_deviding(self, num):\n",
    "        print(\"num: \", num)\n",
    "        for i in [int(x) for x in str(num)]:\n",
    "            if i and num % i == 0:\n",
    "                continue\n",
    "            # print(i, False)\n",
    "            return False\n",
    "        return True"
   ]
  },
  {
   "cell_type": "code",
   "execution_count": 16,
   "metadata": {},
   "outputs": [
    {
     "name": "stdout",
     "output_type": "stream",
     "text": [
      "num:  1\n",
      "num:  2\n",
      "num:  3\n",
      "num:  4\n",
      "num:  5\n",
      "num:  6\n",
      "num:  7\n",
      "num:  8\n",
      "num:  9\n",
      "num:  10\n",
      "0 False\n",
      "num:  11\n",
      "num:  12\n",
      "num:  13\n",
      "3 False\n",
      "num:  14\n",
      "4 False\n",
      "num:  15\n",
      "num:  16\n",
      "6 False\n",
      "num:  17\n",
      "7 False\n",
      "num:  18\n",
      "8 False\n",
      "num:  19\n",
      "9 False\n",
      "num:  20\n",
      "0 False\n",
      "num:  21\n",
      "2 False\n",
      "num:  22\n"
     ]
    },
    {
     "data": {
      "text/plain": [
       "[1, 2, 3, 4, 5, 6, 7, 8, 9, 11, 12, 15, 22]"
      ]
     },
     "execution_count": 16,
     "metadata": {},
     "output_type": "execute_result"
    }
   ],
   "source": [
    "Solution().selfDividingNumbers(1,22)"
   ]
  },
  {
   "cell_type": "code",
   "execution_count": null,
   "metadata": {},
   "outputs": [],
   "source": []
  }
 ],
 "metadata": {
  "kernelspec": {
   "display_name": "Python 3",
   "language": "python",
   "name": "python3"
  },
  "language_info": {
   "codemirror_mode": {
    "name": "ipython",
    "version": 3
   },
   "file_extension": ".py",
   "mimetype": "text/x-python",
   "name": "python",
   "nbconvert_exporter": "python",
   "pygments_lexer": "ipython3",
   "version": "3.7.0"
  }
 },
 "nbformat": 4,
 "nbformat_minor": 2
}
