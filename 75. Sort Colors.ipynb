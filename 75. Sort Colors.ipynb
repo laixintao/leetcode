{
 "cells": [
  {
   "cell_type": "code",
   "execution_count": 75,
   "metadata": {},
   "outputs": [],
   "source": [
    "class Solution:\n",
    "            \n",
    "    def sortColors(self, nums):\n",
    "        \"\"\"\n",
    "        :type nums: List[int]\n",
    "        :rtype: void Do not return anything, modify nums in-place instead.\n",
    "        \"\"\"\n",
    "        num0_tail = 0\n",
    "        num1_tail = 0\n",
    "        \n",
    "        def insert(num, current):\n",
    "            \"\"\" nums are soted \"\"\"\n",
    "            nonlocal num0_tail\n",
    "            nonlocal num1_tail\n",
    "            if num == 2:\n",
    "                nums[current] = num\n",
    "            elif num == 1:\n",
    "                if num1_tail < current:\n",
    "                    insert(nums[num1_tail], current)\n",
    "                nums[num1_tail] = num\n",
    "                num1_tail += 1\n",
    "            elif num == 0:\n",
    "                if num0_tail < current:\n",
    "                    insert(nums[num0_tail], current)\n",
    "                if num0_tail == num1_tail:\n",
    "                    num1_tail += 1\n",
    "                nums[num0_tail] = num\n",
    "                num0_tail += 1\n",
    "\n",
    "            \n",
    "        for index, num in enumerate(nums):\n",
    "            insert(num, index)"
   ]
  },
  {
   "cell_type": "code",
   "execution_count": 76,
   "metadata": {},
   "outputs": [],
   "source": [
    "Solution().sortColors([2,0,2,1,1,0])"
   ]
  },
  {
   "cell_type": "code",
   "execution_count": 77,
   "metadata": {},
   "outputs": [],
   "source": [
    "Solution().sortColors([0])"
   ]
  },
  {
   "cell_type": "code",
   "execution_count": 78,
   "metadata": {},
   "outputs": [],
   "source": [
    "Solution().sortColors([1,0,0])"
   ]
  },
  {
   "cell_type": "code",
   "execution_count": null,
   "metadata": {},
   "outputs": [],
   "source": []
  }
 ],
 "metadata": {
  "kernelspec": {
   "display_name": "Python 3",
   "language": "python",
   "name": "python3"
  },
  "language_info": {
   "codemirror_mode": {
    "name": "ipython",
    "version": 3
   },
   "file_extension": ".py",
   "mimetype": "text/x-python",
   "name": "python",
   "nbconvert_exporter": "python",
   "pygments_lexer": "ipython3",
   "version": "3.7.0"
  }
 },
 "nbformat": 4,
 "nbformat_minor": 2
}
