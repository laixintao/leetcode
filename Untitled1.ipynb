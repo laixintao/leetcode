{
 "cells": [
  {
   "cell_type": "code",
   "execution_count": 2,
   "metadata": {},
   "outputs": [
    {
     "data": {
      "image/png": "iVBORw0KGgoAAAANSUhEUgAAAFMAAACbCAYAAAAeCafZAAAAAXNSR0IArs4c6QAAC6xJREFUeAHtnWdoFM8bx58YNbZYsTfE3nuN9YUiVoj%2BrYj1jR1RrKAi2H2jIpYXdlQMKogVS4zYFcGKPfYee2/zf74Dm5/mdi97d5PbXPIMHLe3O/vM7OeenZ2Z55l9opRS20mSCQKnc7KU/5mQJDKIcggEcwQEpjmWopkGWRLaTM/S69ev6erVq/pz7949evr0qf48e/aMPn36RF%2B/fqVv377Rz58/KU%2BePPqTN29eKly4MJUpU0Z/ypYtSzVq1KA6depQzZo1dR6vLiiKn%2BYqXIUDXFJSkv6cOHGCAA2paNGiVLVqVQIYQCpdujTFxsamwsuVK5eGCrAA/ObNm1Twjx8/plu3btH3798pOjpaA23bti21a9dOf0qWLBmuy0vIUJh//vyhkydP0s6dO/Xn4cOHVKhQIWrdujW1adOGGjVqpDUK8EJJv3//ptu3b2sNP3v2LB0/fpwuXrxI2N%2BiRQuKj4%2BnXr16UaVKlUIpJr1zEwiaaTo9f/5czZ07V1WsWBFar2rVqqVmzJihzp8/r/gCTRdnK%2B/jx49q9%2B7dasiQIYo1X9ejffv2atu2berHjx%2B254S4c7tRmKwdavDgwYpvS30BEyZMUNeuXQuxjqGfzm2u2rdvn%2BrZs6fipkDxra8WLlyouF0OXfh/EszA5NtXQ0RFq1WrptatW6e4bfuvmEy0xW2smjJliipQoIAqXry4WrJkieL21kQNQ4OJf3zRokUqf/78qnLlymrz5s3q169fJiqW4TK4J6GmTZumuHeguDegjh49GmqZwcO8fv26qlevnq7MnDlzFD9pQ62MJ%2BcnJyerHj166DZ1xIgR6vPnz8HWIziYa9euVfny5VPNmzdXd%2B/eDbbwTHXejh07dDuPh%2BWVK1eCqVtgMLmro/BQiYqKUlOnTlW4zbNSQtvP3Tbdnh48eDDQS3MPE92J/v37q9y5c6stW7YEWlDE5Md1Dho0SPdINm3aFEi93cGERg4YMED/YwYa6kAq6FneyZMnqxw5cqiEhAS3dXAHE7c2NPLQoUNuBWeJfGPGjFExMTEqMTHRzfWkD3Pr1q36SYfv7JZwR/bu3Vv3R3keIb3L9w/z/v37isfSatSoUekJyrLHP3z4oPvQnTp1UoDrJ/mH2b17dz2uzqyjGT8XZvQQT57o9nPjxo3%2B5DrD5KkyfXsfOHDAn4Bsc2z48OGqQoUK/gYnzjAxw9KxY8dsAyu9C33y5Ike7a1YscIpqz1MzP5g6mzPnj1OJ2bL/ZgR4zlYp2vfbmtQ27Bhg5717ty5c3oTotnqON/qetKZh5u2120L88iRI9StWzdtBrA9K5vuhIWgWLFiBD52yQcmbCmY8o%2BLi7PLn6338ZwEtWrVik6dOmXLwQfmnTt3tHGqYcOGtieEa%2Bfbt29pzZo1NHDgQGratCmNHj1aWyzDVb5TOeACw6Bd8jH1wvyKVKJECbv8YdvHkyoE8y%2BbPbSxrGXLlsR2HeK%2BXtjqYFcQz85TSkqK3SFfJwRoBFKRIkVsTwjHTphzjx07RtyvI5h5eY6R2BxCp0%2BfDkfxfsuAWdpilDajj2ayCULn4RlnbexPe0I4fsPRABqJuvBwjngqTGsn7OZeJ3CxGKWti0%2BbiacVkpMqpxWQUb/RzCxevJjgUMDGL%2B21kVFlBSIXzaDFKO15PjDZ1q3zwEvCqwTngT59%2BhAPZYnnT4k7y8RTgF5V559ywcVi9M8B/uEDE9TRPsF9xasEDxCA5OGsdp1BPXB78dDDqyqllgsPFXSP7JIPTGRC59SpY2onxPS%2BggULapHsfUHslUHTp0/XfV82KdCuXbvIaQRiuh5p5cG9B2444GOb7Aaahw8f1mNzr7wx4ELTtWtXPe3Fzlxq3rx5aunSpfo3zMuYZ/UizZ49W3Fb7uReYz/RgUlQbhfUuHHjvKhzapnv379P3cZG2t//HMzgHzC0YQpu4sSJTiXZw0Tu5cuXa/uHV1rgVGOv9i9btkzzePDggVMVnGHin6hSpYrq16%2Bf08nZZj/7gyp%2BMKtJkyb5u2ZnmDgL85nc0Go3PH9Ssvox9u1UaLsB1U/yDxMnwpgGo1pWcYPxA8P20MqVK/WDj3s3tsf/2pk%2BzC9fvujZZXaTVi9fvvzr3Ky/uXfvXpUzZ041c%2BZMNxebPkxIgScwXAYxZc%2BDfDeCIz4Pu3Jr57ShQ4e6vRZ3MCGN5zlV%2BfLlVe3atRUcnLJy4hGYNp6hrQzAOc09TMCD1y0vEVG8IkKdOXMmS/KEJzF8jEaOHBmo/31gMEEPt3mXLl10W7JgwYL0vBwiBjieBxh1oY2EN3QQKXCYKAQjJJ4e0253vAQlWOfQIOqbMafAfRyLBjDCYftOsIUEB9MqjQ1v2nsY/yY85eAnHkkJ9ef50tTbOsSHa2gwAQ6TEqtXr9aeYljBAI/iV69eZWqmFy5cSPVjhyv5uXPnTNQ3dJhWLbCmBmtrsBwEKxiwmIltNtZhz7%2BxgAG3M5oljOqaNGli2mPFHEyLFqCuWrVKNWjQQFcaXalZs2apS5cuWVnC9o31PVhMhVUUWKWG5gjdnQxy2jUP829S6D6NHTtWlStXToPltYtq2LBhav369YrNuH9nNbKNPiHc//BwhDskTzLrxQzNmjXTdw2vGjZSjoOQ7Rm6ENWajebCidsl4uGZXiTKkLWjA5Y6s%2BbqxagwlVjLnq1VvbBSYmk0zL3wNIEJGB9rVS9WBT969Ih4TZK2Zt68eZMwGw9jHBa6dujQgXiND/Fgw6pKRn5n7Kpep5oDDD8E6PLly6nrzXkihV68eEG8ws3pNJ/9vBZJO5hVr16d6tatq/8UeFxg3bkHyRuYThfK/VfizrNehw4DGrSQTSjEnWji6UCyNBUOEtBiLLfORCnBxwnBy8rxMI5KlSqlP1Y93r17pzd5dGLtyrTfttbJTFvbTF4xgWnwDxKYAtMgAYOiRDMFpkECBkWJZgpMgwQMihLNFJgGCRgUJZopMA0SMChKNFNgGiRgUJRopsA0SMCgKNFMgWmQgEFRopkC0yABg6JEMwWmQQIGRYlmCkyDBAyKEs0UmAYJGBQlmikwDRIwKEo0U2AaJGBQlGimwDRIwKAo0UyBaZCAQVGimQLTIAGDokQzBaZBAgZFiWYKTIMEDIoSzRSYBgkYFCWaKTANEjAoSjTTIExPV/XizdLpxTfHMmmEQcDrvLGQH8ukJb45a4DENw/hNsBifIlv7vBGD7e7Jb65W1J%2B8kl8cz9w3B6S%2BOaaVGjvNZL45v%2BoW/AwJb75PyDxIziYEt/cB2TgMPHeTIlvbgsyMJh4Cb7EN3cE6R4mNFLim/sF6R6mxDdPTJckZ0j/ASTxzSW%2BuRtNcpVH4pu7wuQ%2Bk8Q3d8/KVU6Jb%2B4Kk7tMERnfHCEfEJAdUQr8BGZ3R8BwLg7ZGFnxzRmmfjcxv8Vav9k1hLlp46dGXHxzfgk98RuzjYMwITAi45tHR0ebuHbjMiI2vjlIIMwsgnhyUDzi964Tgnp6nSIyvjmgzZ8/X4cG55fl63C3eCM2Xj8%2Bfvx4z5hGXHxzi1Tjxo11wHiEuk1ISNC7ObSDDhpv5Qn3t7/45j4eHVbsbrwn3esUHx%2BfWgVEAuCwDsRRUXW0gNQDYd6IyPjmdozi4uL0bg6RY3c4LPsiLr65E5XY2Fh9iMM2OmXJ8P0RF9/ciUhiYiJxyFvyEmbExTe3YN64ccPapP379xMHYSYeYpJX/dCIjG%2BekpKi%2Bvbtq9jbTXG/TnFbqerXr6%2BSkpIMj7YDExfR8c1he0pOTvY0rrmFW%2BKbWyQMfEt8cwMQIULimxsCCTES39wQTIlvbgikxDc3BFLimxsCKfHNDYGU%2BOYGQEp8cwMQIULimxsAKfHNDUCU%2BOYhQpT45iEClPjmIQCU%2BOYS3zzVmhDUhsQ3DwpbYCdhSXXa%2BOZYvI8A8jExMZk%2BvnkUmqjALllyOxBI8PHocMgou10QEJguILnNIjDdknKR7/%2Br8q1Fd8bJKwAAAABJRU5ErkJggg%3D%3D"
     },
     "metadata": {
      "image/png": {
       "height": 155,
       "width": 83
      }
     },
     "output_type": "display_data"
    }
   ],
   "source": [
    "graph {\n",
    "    a --b;\n",
    "}"
   ]
  },
  {
   "cell_type": "code",
   "execution_count": null,
   "metadata": {},
   "outputs": [],
   "source": []
  }
 ],
 "metadata": {
  "kernelspec": {
   "display_name": "dot",
   "language": "",
   "name": "dot_kernel_spec"
  },
  "language_info": {
   "file_extension": ".gv",
   "mimetype": "text/plain",
   "name": "dot"
  }
 },
 "nbformat": 4,
 "nbformat_minor": 2
}
